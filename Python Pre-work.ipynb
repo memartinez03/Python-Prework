{
 "cells": [
  {
   "cell_type": "code",
   "execution_count": 9,
   "id": "583bce85",
   "metadata": {},
   "outputs": [
    {
     "name": "stdout",
     "output_type": "stream",
     "text": [
      "Enter USERNAME: memartinez\n",
      "hello_memartinez\n"
     ]
    }
   ],
   "source": [
    "def hello_name(user_name):\n",
    "    print(\"hello_\"+user_name)\n",
    "user_name = input('Enter USERNAME: ')\n",
    "hello_name(user_name)\n"
   ]
  },
  {
   "cell_type": "code",
   "execution_count": 10,
   "id": "50979de5",
   "metadata": {},
   "outputs": [
    {
     "name": "stdout",
     "output_type": "stream",
     "text": [
      "1\n",
      "3\n",
      "5\n",
      "7\n",
      "9\n",
      "11\n",
      "13\n",
      "15\n",
      "17\n",
      "19\n",
      "21\n",
      "23\n",
      "25\n",
      "27\n",
      "29\n",
      "31\n",
      "33\n",
      "35\n",
      "37\n",
      "39\n",
      "41\n",
      "43\n",
      "45\n",
      "47\n",
      "49\n",
      "51\n",
      "53\n",
      "55\n",
      "57\n",
      "59\n",
      "61\n",
      "63\n",
      "65\n",
      "67\n",
      "69\n",
      "71\n",
      "73\n",
      "75\n",
      "77\n",
      "79\n",
      "81\n",
      "83\n",
      "85\n",
      "87\n",
      "89\n",
      "91\n",
      "93\n",
      "95\n",
      "97\n",
      "99\n"
     ]
    }
   ],
   "source": [
    "def first_odd():\n",
    "    for i in range(1,101):\n",
    "        if i % 2 != 0:\n",
    "            print(i)\n",
    "first_odd()"
   ]
  },
  {
   "cell_type": "code",
   "execution_count": 11,
   "id": "b48c1087",
   "metadata": {},
   "outputs": [
    {
     "name": "stdout",
     "output_type": "stream",
     "text": [
      "50\n"
     ]
    }
   ],
   "source": [
    "def max_num_in_list(a_list):\n",
    "    maximum = a_list[0]\n",
    "    for i in range(len(a_list)):\n",
    "        if a_list[i] > maximum:\n",
    "            maximum = a_list[i]\n",
    "    return maximum\n",
    "a_list = [10, 20, 30, 40, 50]\n",
    "print(max_num_in_list(a_list))"
   ]
  },
  {
   "cell_type": "code",
   "execution_count": 12,
   "id": "aaff57ce",
   "metadata": {},
   "outputs": [
    {
     "name": "stdout",
     "output_type": "stream",
     "text": [
      "2020\n",
      "True\n"
     ]
    }
   ],
   "source": [
    "def is_leap_year(a_year):\n",
    "    # Checking if the year is divisible ny 400\n",
    "    if(a_year % 400 == 0):\n",
    "        return True\n",
    "    # Checking if the year is divisible 100. If it is divisible then it is\n",
    "    # Not a leap year\n",
    "    elif a_year % 100 == 0:\n",
    "        return False\n",
    "    # Checking if the year is divisible by 4.\n",
    "    elif a_year%4 == 0:\n",
    "        return True\n",
    "    # Otherwise False\n",
    "    else:\n",
    "        return False\n",
    "# Asking the user to enter year \n",
    "a_year = int(input())\n",
    "# Calling function is_leap_year\n",
    "print(is_leap_year(a_year))"
   ]
  },
  {
   "cell_type": "code",
   "execution_count": 13,
   "id": "5468dee3",
   "metadata": {},
   "outputs": [
    {
     "name": "stdout",
     "output_type": "stream",
     "text": [
      "True\n",
      "False\n"
     ]
    }
   ],
   "source": [
    "def is_consecutive(a_list):\n",
    "    return sorted(a_list) == list(range(min(a_list), max(a_list)+1))\n",
    "# Driver Code\n",
    "a_list = [2,3,4,5,6,7]\n",
    "print(is_consecutive(a_list))\n",
    "a_list = [1,2,4,5]\n",
    "print(is_consecutive(a_list))"
   ]
  },
  {
   "cell_type": "code",
   "execution_count": null,
   "id": "c40a9de2",
   "metadata": {},
   "outputs": [],
   "source": []
  }
 ],
 "metadata": {
  "kernelspec": {
   "display_name": "Python 3 (ipykernel)",
   "language": "python",
   "name": "python3"
  },
  "language_info": {
   "codemirror_mode": {
    "name": "ipython",
    "version": 3
   },
   "file_extension": ".py",
   "mimetype": "text/x-python",
   "name": "python",
   "nbconvert_exporter": "python",
   "pygments_lexer": "ipython3",
   "version": "3.10.9"
  }
 },
 "nbformat": 4,
 "nbformat_minor": 5
}
